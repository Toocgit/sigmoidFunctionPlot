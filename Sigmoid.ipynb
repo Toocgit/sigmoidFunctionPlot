{
  "nbformat": 4,
  "nbformat_minor": 0,
  "metadata": {
    "colab": {
      "name": "Sigmoid",
      "version": "0.3.2",
      "provenance": [],
      "collapsed_sections": []
    },
    "kernelspec": {
      "name": "python3",
      "display_name": "Python 3"
    }
  },
  "cells": [
    {
      "metadata": {
        "id": "-HQRIj6uTfUY",
        "colab_type": "code",
        "colab": {}
      },
      "cell_type": "code",
      "source": [
        "import numpy as np\n",
        "import pandas as pd"
      ],
      "execution_count": 0,
      "outputs": []
    },
    {
      "metadata": {
        "id": "d5DQXsRUWVRF",
        "colab_type": "code",
        "outputId": "177e671c-4a76-4ea3-e923-79dddf885d3f",
        "colab": {
          "base_uri": "https://localhost:8080/",
          "height": 781
        }
      },
      "cell_type": "code",
      "source": [
        "# Create ndarray of values from -10 to 9.5 (step 0.5)\n",
        "z = np.arange(-10, 10, 0.5).reshape(40,1)\n",
        "print(z.shape)\n",
        "print(z.ndim)\n",
        "print(z)"
      ],
      "execution_count": 0,
      "outputs": [
        {
          "output_type": "stream",
          "text": [
            "(40, 1)\n",
            "2\n",
            "[[-10. ]\n",
            " [ -9.5]\n",
            " [ -9. ]\n",
            " [ -8.5]\n",
            " [ -8. ]\n",
            " [ -7.5]\n",
            " [ -7. ]\n",
            " [ -6.5]\n",
            " [ -6. ]\n",
            " [ -5.5]\n",
            " [ -5. ]\n",
            " [ -4.5]\n",
            " [ -4. ]\n",
            " [ -3.5]\n",
            " [ -3. ]\n",
            " [ -2.5]\n",
            " [ -2. ]\n",
            " [ -1.5]\n",
            " [ -1. ]\n",
            " [ -0.5]\n",
            " [  0. ]\n",
            " [  0.5]\n",
            " [  1. ]\n",
            " [  1.5]\n",
            " [  2. ]\n",
            " [  2.5]\n",
            " [  3. ]\n",
            " [  3.5]\n",
            " [  4. ]\n",
            " [  4.5]\n",
            " [  5. ]\n",
            " [  5.5]\n",
            " [  6. ]\n",
            " [  6.5]\n",
            " [  7. ]\n",
            " [  7.5]\n",
            " [  8. ]\n",
            " [  8.5]\n",
            " [  9. ]\n",
            " [  9.5]]\n"
          ],
          "name": "stdout"
        }
      ]
    },
    {
      "metadata": {
        "id": "DzdUOTWfWp06",
        "colab_type": "code",
        "outputId": "f38febdb-02dc-41c3-c585-6c4c6acf28c2",
        "colab": {
          "base_uri": "https://localhost:8080/",
          "height": 763
        }
      },
      "cell_type": "code",
      "source": [
        "# Calculate sigmoid of all z elements\n",
        "a = 1 / (1 + np.exp(-(z)))\n",
        "print(a.shape)\n",
        "print(a.round(3))"
      ],
      "execution_count": 0,
      "outputs": [
        {
          "output_type": "stream",
          "text": [
            "(40, 1)\n",
            "[[0.   ]\n",
            " [0.   ]\n",
            " [0.   ]\n",
            " [0.   ]\n",
            " [0.   ]\n",
            " [0.001]\n",
            " [0.001]\n",
            " [0.002]\n",
            " [0.002]\n",
            " [0.004]\n",
            " [0.007]\n",
            " [0.011]\n",
            " [0.018]\n",
            " [0.029]\n",
            " [0.047]\n",
            " [0.076]\n",
            " [0.119]\n",
            " [0.182]\n",
            " [0.269]\n",
            " [0.378]\n",
            " [0.5  ]\n",
            " [0.622]\n",
            " [0.731]\n",
            " [0.818]\n",
            " [0.881]\n",
            " [0.924]\n",
            " [0.953]\n",
            " [0.971]\n",
            " [0.982]\n",
            " [0.989]\n",
            " [0.993]\n",
            " [0.996]\n",
            " [0.998]\n",
            " [0.998]\n",
            " [0.999]\n",
            " [0.999]\n",
            " [1.   ]\n",
            " [1.   ]\n",
            " [1.   ]\n",
            " [1.   ]]\n"
          ],
          "name": "stdout"
        }
      ]
    },
    {
      "metadata": {
        "id": "4SRNmU-wYPPl",
        "colab_type": "code",
        "outputId": "4ec3dbfe-91a6-4aca-ae28-2c83d9cfe686",
        "colab": {
          "base_uri": "https://localhost:8080/",
          "height": 781
        }
      },
      "cell_type": "code",
      "source": [
        "# Put the data from z and a into a dataframe\n",
        "s = pd.DataFrame(np.concatenate((z, a), axis=1), columns=[\"z\", \"sigmoid(z)\"])\n",
        "print(s.shape)\n",
        "print(s)"
      ],
      "execution_count": 0,
      "outputs": [
        {
          "output_type": "stream",
          "text": [
            "(40, 2)\n",
            "       z  sigmoid(z)\n",
            "0  -10.0    0.000045\n",
            "1   -9.5    0.000075\n",
            "2   -9.0    0.000123\n",
            "3   -8.5    0.000203\n",
            "4   -8.0    0.000335\n",
            "5   -7.5    0.000553\n",
            "6   -7.0    0.000911\n",
            "7   -6.5    0.001501\n",
            "8   -6.0    0.002473\n",
            "9   -5.5    0.004070\n",
            "10  -5.0    0.006693\n",
            "11  -4.5    0.010987\n",
            "12  -4.0    0.017986\n",
            "13  -3.5    0.029312\n",
            "14  -3.0    0.047426\n",
            "15  -2.5    0.075858\n",
            "16  -2.0    0.119203\n",
            "17  -1.5    0.182426\n",
            "18  -1.0    0.268941\n",
            "19  -0.5    0.377541\n",
            "20   0.0    0.500000\n",
            "21   0.5    0.622459\n",
            "22   1.0    0.731059\n",
            "23   1.5    0.817574\n",
            "24   2.0    0.880797\n",
            "25   2.5    0.924142\n",
            "26   3.0    0.952574\n",
            "27   3.5    0.970688\n",
            "28   4.0    0.982014\n",
            "29   4.5    0.989013\n",
            "30   5.0    0.993307\n",
            "31   5.5    0.995930\n",
            "32   6.0    0.997527\n",
            "33   6.5    0.998499\n",
            "34   7.0    0.999089\n",
            "35   7.5    0.999447\n",
            "36   8.0    0.999665\n",
            "37   8.5    0.999797\n",
            "38   9.0    0.999877\n",
            "39   9.5    0.999925\n"
          ],
          "name": "stdout"
        }
      ]
    },
    {
      "metadata": {
        "id": "TCQomYMCXFgw",
        "colab_type": "code",
        "outputId": "a33735cd-6111-47eb-94e6-e33e978a31e9",
        "colab": {
          "base_uri": "https://localhost:8080/",
          "height": 379
        }
      },
      "cell_type": "code",
      "source": [
        "# Line plot of sigmoid(z)\n",
        "s.plot(x=\"z\", y=\"sigmoid(z)\")"
      ],
      "execution_count": 0,
      "outputs": [
        {
          "output_type": "execute_result",
          "data": {
            "text/plain": [
              "<matplotlib.axes._subplots.AxesSubplot at 0x7fe150ff80f0>"
            ]
          },
          "metadata": {
            "tags": []
          },
          "execution_count": 14
        },
        {
          "output_type": "display_data",
          "data": {
            "image/png": "[encoded data removed]",
            "text/plain": [
              "<Figure size 576x396 with 1 Axes>"
            ]
          },
          "metadata": {
            "tags": []
          }
        }
      ]
    },
    {
      "metadata": {
        "id": "q3APdjtOXQ38",
        "colab_type": "code",
        "outputId": "79d146a5-90ab-4851-dcad-1b59d032ce62",
        "colab": {
          "base_uri": "https://localhost:8080/",
          "height": 35
        }
      },
      "cell_type": "code",
      "source": [
        "# Sense check exponential function\n",
        "np.exp(3)"
      ],
      "execution_count": 0,
      "outputs": [
        {
          "output_type": "execute_result",
          "data": {
            "text/plain": [
              "20.085536923187668"
            ]
          },
          "metadata": {
            "tags": []
          },
          "execution_count": 15
        }
      ]
    }
  ]
}